{
  "nbformat": 4,
  "nbformat_minor": 0,
  "metadata": {
    "colab": {
      "provenance": []
    },
    "kernelspec": {
      "name": "python3",
      "display_name": "Python 3"
    },
    "language_info": {
      "name": "python"
    }
  },
  "cells": [
    {
      "cell_type": "code",
      "execution_count": null,
      "metadata": {
        "colab": {
          "base_uri": "https://localhost:8080/"
        },
        "id": "e0PS9NfN1xgW",
        "outputId": "340254a6-31cd-4a5d-d228-2c3f1c59c062"
      },
      "outputs": [
        {
          "output_type": "stream",
          "name": "stdout",
          "text": [
            "Looking in indexes: https://pypi.org/simple, https://us-python.pkg.dev/colab-wheels/public/simple/\n",
            "Collecting geopandas\n",
            "  Downloading geopandas-0.12.2-py3-none-any.whl (1.1 MB)\n",
            "\u001b[2K     \u001b[90m━━━━━━━━━━━━━━━━━━━━━━━━━━━━━━━━━━━━━━━━\u001b[0m \u001b[32m1.1/1.1 MB\u001b[0m \u001b[31m13.0 MB/s\u001b[0m eta \u001b[36m0:00:00\u001b[0m\n",
            "\u001b[?25hRequirement already satisfied: packaging in /usr/local/lib/python3.8/dist-packages (from geopandas) (23.0)\n",
            "Requirement already satisfied: pandas>=1.0.0 in /usr/local/lib/python3.8/dist-packages (from geopandas) (1.3.5)\n",
            "Requirement already satisfied: shapely>=1.7 in /usr/local/lib/python3.8/dist-packages (from geopandas) (2.0.1)\n",
            "Collecting fiona>=1.8\n",
            "  Downloading Fiona-1.9.1-cp38-cp38-manylinux_2_17_x86_64.manylinux2014_x86_64.whl (16.0 MB)\n",
            "\u001b[2K     \u001b[90m━━━━━━━━━━━━━━━━━━━━━━━━━━━━━━━━━━━━━━━━\u001b[0m \u001b[32m16.0/16.0 MB\u001b[0m \u001b[31m20.4 MB/s\u001b[0m eta \u001b[36m0:00:00\u001b[0m\n",
            "\u001b[?25hCollecting pyproj>=2.6.1.post1\n",
            "  Downloading pyproj-3.4.1-cp38-cp38-manylinux_2_17_x86_64.manylinux2014_x86_64.whl (7.8 MB)\n",
            "\u001b[2K     \u001b[90m━━━━━━━━━━━━━━━━━━━━━━━━━━━━━━━━━━━━━━━━\u001b[0m \u001b[32m7.8/7.8 MB\u001b[0m \u001b[31m49.2 MB/s\u001b[0m eta \u001b[36m0:00:00\u001b[0m\n",
            "\u001b[?25hCollecting munch>=2.3.2\n",
            "  Downloading munch-2.5.0-py2.py3-none-any.whl (10 kB)\n",
            "Collecting cligj>=0.5\n",
            "  Downloading cligj-0.7.2-py3-none-any.whl (7.1 kB)\n",
            "Requirement already satisfied: certifi in /usr/local/lib/python3.8/dist-packages (from fiona>=1.8->geopandas) (2022.12.7)\n",
            "Requirement already satisfied: attrs>=19.2.0 in /usr/local/lib/python3.8/dist-packages (from fiona>=1.8->geopandas) (22.2.0)\n",
            "Collecting click-plugins>=1.0\n",
            "  Downloading click_plugins-1.1.1-py2.py3-none-any.whl (7.5 kB)\n",
            "Requirement already satisfied: setuptools in /usr/local/lib/python3.8/dist-packages (from fiona>=1.8->geopandas) (57.4.0)\n",
            "Collecting click~=8.0\n",
            "  Downloading click-8.1.3-py3-none-any.whl (96 kB)\n",
            "\u001b[2K     \u001b[90m━━━━━━━━━━━━━━━━━━━━━━━━━━━━━━━━━━━━━━━━\u001b[0m \u001b[32m96.6/96.6 KB\u001b[0m \u001b[31m5.2 MB/s\u001b[0m eta \u001b[36m0:00:00\u001b[0m\n",
            "\u001b[?25hRequirement already satisfied: numpy>=1.17.3 in /usr/local/lib/python3.8/dist-packages (from pandas>=1.0.0->geopandas) (1.21.6)\n",
            "Requirement already satisfied: python-dateutil>=2.7.3 in /usr/local/lib/python3.8/dist-packages (from pandas>=1.0.0->geopandas) (2.8.2)\n",
            "Requirement already satisfied: pytz>=2017.3 in /usr/local/lib/python3.8/dist-packages (from pandas>=1.0.0->geopandas) (2022.7.1)\n",
            "Requirement already satisfied: six in /usr/local/lib/python3.8/dist-packages (from munch>=2.3.2->fiona>=1.8->geopandas) (1.15.0)\n",
            "Installing collected packages: pyproj, munch, click, cligj, click-plugins, fiona, geopandas\n",
            "  Attempting uninstall: click\n",
            "    Found existing installation: click 7.1.2\n",
            "    Uninstalling click-7.1.2:\n",
            "      Successfully uninstalled click-7.1.2\n",
            "\u001b[31mERROR: pip's dependency resolver does not currently take into account all the packages that are installed. This behaviour is the source of the following dependency conflicts.\n",
            "flask 1.1.4 requires click<8.0,>=5.1, but you have click 8.1.3 which is incompatible.\u001b[0m\u001b[31m\n",
            "\u001b[0mSuccessfully installed click-8.1.3 click-plugins-1.1.1 cligj-0.7.2 fiona-1.9.1 geopandas-0.12.2 munch-2.5.0 pyproj-3.4.1\n"
          ]
        }
      ],
      "source": [
        "!pip install geopandas"
      ]
    },
    {
      "cell_type": "code",
      "source": [
        "from google.colab import drive\n",
        "drive.mount('/content/drive')"
      ],
      "metadata": {
        "colab": {
          "base_uri": "https://localhost:8080/"
        },
        "id": "orN0PS141-Hl",
        "outputId": "f981909c-ebce-4975-be72-2e339c7ca2bf"
      },
      "execution_count": null,
      "outputs": [
        {
          "output_type": "stream",
          "name": "stdout",
          "text": [
            "Mounted at /content/drive\n"
          ]
        }
      ]
    },
    {
      "cell_type": "code",
      "source": [
        "%cd /content/drive/MyDrive/공간정보활용 공모전/"
      ],
      "metadata": {
        "colab": {
          "base_uri": "https://localhost:8080/"
        },
        "id": "PKVrutWL2GJO",
        "outputId": "abc39032-3721-490e-e124-1e314eab6980"
      },
      "execution_count": null,
      "outputs": [
        {
          "output_type": "stream",
          "name": "stdout",
          "text": [
            "/content/drive/.shortcut-targets-by-id/12CdYaiaXminsUG-MrYvqDyVBDHcUxd6B/공간정보활용 공모전\n"
          ]
        }
      ]
    },
    {
      "cell_type": "code",
      "source": [
        "from dataProcssingFunction import polygon2gray\n",
        "from torchvision import transforms\n",
        "\n",
        "import torch\n",
        "import numpy as np\n",
        "import pandas as pd\n",
        "import geopandas as gpd\n",
        "\n",
        "print(gpd.__version__)"
      ],
      "metadata": {
        "colab": {
          "base_uri": "https://localhost:8080/"
        },
        "id": "_etFETjQ2NdY",
        "outputId": "2a13e545-188a-4a09-ab1a-077d7553a071"
      },
      "execution_count": null,
      "outputs": [
        {
          "output_type": "stream",
          "name": "stdout",
          "text": [
            "0.12.2\n"
          ]
        }
      ]
    },
    {
      "cell_type": "code",
      "source": [
        "file = '/content/drive/MyDrive/공간정보활용 공모전/강원도_표준지공시지가공간정보/AL_42_D152_20220929.shp'\n",
        "gw = gpd.read_file(file, encoding='euckr')\n",
        "file = '/content/drive/MyDrive/공간정보활용 공모전/경기도_표준지공시지가공간정보/AL_41_D152_20220929.shp'\n",
        "gg = gpd.read_file(file, encoding='euckr')"
      ],
      "metadata": {
        "id": "8p4qXazX2RdB"
      },
      "execution_count": null,
      "outputs": []
    },
    {
      "cell_type": "markdown",
      "source": [
        "춘천시\n",
        "홍천군\n",
        "횡성군\n",
        "원주시\n",
        "평창군\n",
        "\n",
        "가평군\n",
        "남양주시\n",
        "광주시\n",
        "이천시\n",
        "여주시"
      ],
      "metadata": {
        "id": "C2lFMs1vqURh"
      }
    },
    {
      "cell_type": "code",
      "source": [
        "gw_adj = ['춘천시', '홍천군', '횡성군', '원주시', '평창군']\n",
        "df = gw['A2'].apply(lambda row: row.split()[1]== '서울')\n",
        "for city in gw_adj:\n",
        "  temp = gw['A2'].apply(lambda row: row.split()[1]== city)\n",
        "  df = pd.merge(left=df, right=temp, how='inner', left_index=True, right_index=True)\n",
        "\n",
        "gw = gw[df.any(axis=1)]"
      ],
      "metadata": {
        "colab": {
          "base_uri": "https://localhost:8080/"
        },
        "id": "eXqlHsHnpF5Z",
        "outputId": "ea57e56a-aa47-4c83-ce8b-459b977ced97"
      },
      "execution_count": null,
      "outputs": [
        {
          "output_type": "stream",
          "name": "stderr",
          "text": [
            "<ipython-input-6-3e4077436cc2>:5: FutureWarning: Passing 'suffixes' which cause duplicate columns {'A2_x'} in the result is deprecated and will raise a MergeError in a future version.\n",
            "  df = pd.merge(left=df, right=temp, how='inner', left_index=True, right_index=True)\n"
          ]
        }
      ]
    },
    {
      "cell_type": "code",
      "source": [
        "gg_adj = ['가평군','남양주시', '광주시', '이천시', '여주시']\n",
        "df = gg['A2'].apply(lambda row: row.split()[1]== '서울')\n",
        "for city in gg_adj:\n",
        "  temp = gg['A2'].apply(lambda row: row.split()[1]== city)\n",
        "  df = pd.merge(left=df, right=temp, how='inner', left_index=True, right_index=True)\n",
        "\n",
        "gg = gg[df.any(axis=1)]"
      ],
      "metadata": {
        "colab": {
          "base_uri": "https://localhost:8080/"
        },
        "id": "DVJ3aB55sm2V",
        "outputId": "89f17ec6-9e21-4d40-f8d9-40b8bb5a8fd0"
      },
      "execution_count": null,
      "outputs": [
        {
          "output_type": "stream",
          "name": "stderr",
          "text": [
            "<ipython-input-7-d58a20e6eef9>:5: FutureWarning: Passing 'suffixes' which cause duplicate columns {'A2_x'} in the result is deprecated and will raise a MergeError in a future version.\n",
            "  df = pd.merge(left=df, right=temp, how='inner', left_index=True, right_index=True)\n"
          ]
        }
      ]
    },
    {
      "cell_type": "code",
      "source": [
        "yp_adj = pd.concat([gg, gw])"
      ],
      "metadata": {
        "id": "YiBg_Sclt9RN"
      },
      "execution_count": null,
      "outputs": []
    },
    {
      "cell_type": "code",
      "source": [
        "yp_adj.dropna(subset=['A19'], inplace=True)"
      ],
      "metadata": {
        "id": "tqKBGxhauNap"
      },
      "execution_count": null,
      "outputs": []
    },
    {
      "cell_type": "code",
      "source": [
        "yp_adj.A19 = yp_adj.A19.astype('int64')"
      ],
      "metadata": {
        "id": "ifp0zJ6KuvFh"
      },
      "execution_count": null,
      "outputs": []
    },
    {
      "cell_type": "code",
      "source": [
        "yp_adj.drop(yp_adj[yp_adj.geometry.type == 'MultiPolygon'].index, inplace=True)"
      ],
      "metadata": {
        "id": "9QmS50H-u7OI"
      },
      "execution_count": null,
      "outputs": []
    },
    {
      "cell_type": "code",
      "source": [
        "device = torch.device(\"cuda:0\" if torch.cuda.is_available() else \"cpu\")\n",
        "print(device)"
      ],
      "metadata": {
        "colab": {
          "base_uri": "https://localhost:8080/"
        },
        "id": "Hfb2HqPvAI0r",
        "outputId": "b4c9785b-cd2b-41a4-f710-9232177c45c5"
      },
      "execution_count": null,
      "outputs": [
        {
          "output_type": "stream",
          "name": "stdout",
          "text": [
            "cpu\n"
          ]
        }
      ]
    },
    {
      "cell_type": "code",
      "source": [
        "convert_tensor = transforms.ToTensor()\n",
        "data = []\n",
        "cnt = 0\n",
        "for polygon in yp_adj.geometry:\n",
        "    arr = polygon2gray(polygon, 224)\n",
        "    data.append(convert_tensor(arr))\n",
        "    cnt += 1\n",
        "    if cnt%1000==0:\n",
        "      print(cnt)\n",
        "X = torch.cat(data, 0)"
      ],
      "metadata": {
        "colab": {
          "base_uri": "https://localhost:8080/"
        },
        "id": "uYF13JsjC_4K",
        "outputId": "90cee07d-3528-482f-b918-019a57427728"
      },
      "execution_count": null,
      "outputs": [
        {
          "output_type": "stream",
          "name": "stdout",
          "text": [
            "1000\n",
            "2000\n",
            "3000\n",
            "4000\n",
            "5000\n",
            "6000\n",
            "7000\n",
            "8000\n",
            "9000\n",
            "10000\n",
            "11000\n",
            "12000\n",
            "13000\n",
            "14000\n",
            "15000\n",
            "16000\n",
            "17000\n",
            "18000\n",
            "19000\n",
            "20000\n",
            "21000\n",
            "22000\n",
            "23000\n",
            "24000\n",
            "25000\n",
            "26000\n"
          ]
        }
      ]
    },
    {
      "cell_type": "code",
      "source": [
        "Y = torch.from_numpy(yp_adj.A19.to_numpy()).long().to(device)"
      ],
      "metadata": {
        "id": "ZChA1YM0DCf9"
      },
      "execution_count": null,
      "outputs": []
    },
    {
      "cell_type": "code",
      "source": [
        "#Tensor를 numpy로 변경\n",
        "#X_np = X.numpy( )\n",
        "#이 때, tensor의 device type이 'cuda'이면 'cpu'로 바꿔줘야 한다.\n",
        "X_np = X.cpu( ).numpy( )\n",
        "Y_np = Y.cpu( ).numpy( )\n",
        "\n",
        "\n",
        "#npy파일로 local에 저장\n",
        "#numpy 배열 'b'를 경로에 저장\n",
        "X_file = '/content/drive/MyDrive/공간정보활용 공모전/양평군/adj_X_npy_file'\n",
        "Y_file = '/content/drive/MyDrive/공간정보활용 공모전/양평군/adj_Y_npy_file'\n",
        "np.save(X_file, X_np)\n",
        "np.save(Y_file, Y_np)"
      ],
      "metadata": {
        "id": "I8bYKQ_-HD65"
      },
      "execution_count": null,
      "outputs": []
    }
  ]
}