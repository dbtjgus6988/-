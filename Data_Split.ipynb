{
  "cells": [
    {
      "cell_type": "code",
      "source": [
        "from google.colab import drive\n",
        "drive.mount('/content/drive')"
      ],
      "metadata": {
        "id": "smlDnzH5vzIG"
      },
      "execution_count": null,
      "outputs": []
    },
    {
      "cell_type": "code",
      "execution_count": null,
      "metadata": {
        "id": "SPOfDOfdUtbu"
      },
      "outputs": [],
      "source": [
        "import pandas as pd\n",
        "import numpy as np\n",
        "import sys\n",
        "import matplotlib as plt"
      ]
    },
    {
      "cell_type": "code",
      "execution_count": null,
      "metadata": {
        "id": "5OwbdhpVUtb3",
        "outputId": "3b33b579-ddb0-4dca-b75f-816d3c7476db"
      },
      "outputs": [
        {
          "name": "stderr",
          "output_type": "stream",
          "text": [
            "C:\\Users\\tmdal\\anaconda3\\lib\\site-packages\\IPython\\core\\interactiveshell.py:3146: DtypeWarning: Columns (0) have mixed types.Specify dtype option on import or set low_memory=False.\n",
            "  has_raised = await self.run_ast_nodes(code_ast.body, cell_name,\n"
          ]
        }
      ],
      "source": [
        "seoul = pd.read_csv('AL_11_D153_20220622/AL_11_D153_20220622.csv', encoding='cp949')\n",
        "gyeonggi = pd.read_csv('AL_41_D153_20220622/AL_41_D153_20220622.csv', encoding='cp949')\n",
        "gangwon = pd.read_csv('AL_42_D153_20220622/AL_42_D153_20220622.csv', encoding='cp949')"
      ]
    },
    {
      "cell_type": "code",
      "execution_count": null,
      "metadata": {
        "id": "2K1RPo3-Utb6",
        "outputId": "5d0894d6-c166-40e6-c271-31cf42285798"
      },
      "outputs": [
        {
          "name": "stdout",
          "output_type": "stream",
          "text": [
            "Index(['고유번호', '법정동코드', '법정동명', '특수지구분코드', '특수지구분명', '지번', '표준지일련번호', '기준연도',\n",
            "       '사업지구면적', '지목코드', '지목', '실제지목코드', '실제지목', '토지면적', '용도지역코드1', '용도지역명1',\n",
            "       '용도지역코드2', '용도지역명2', '용도지구코드1', '용도지구명1', '용도지구코드2', '용도지구명2', '저촉율',\n",
            "       '토지이용상황코드', '토지이용상황', '지형높이코드', '지형높이', '지형형상코드', '지형형상', '도로측면코드',\n",
            "       '도로측면', '도로거리코드', '도로거리', '공시지가', '표준지소유구분코드', '표준지소유구분명', '소유형태코드',\n",
            "       '소유형태명', '데이터기준일자'],\n",
            "      dtype='object')\n",
            "39\n"
          ]
        }
      ],
      "source": [
        "print(seoul.columns)\n",
        "print(len(seoul.columns))"
      ]
    },
    {
      "cell_type": "code",
      "execution_count": null,
      "metadata": {
        "id": "uCqf0EofUtb7",
        "outputId": "8eb100f0-f55d-4baf-971a-b04a25764031"
      },
      "outputs": [
        {
          "data": {
            "text/html": [
              "<div>\n",
              "<style scoped>\n",
              "    .dataframe tbody tr th:only-of-type {\n",
              "        vertical-align: middle;\n",
              "    }\n",
              "\n",
              "    .dataframe tbody tr th {\n",
              "        vertical-align: top;\n",
              "    }\n",
              "\n",
              "    .dataframe thead th {\n",
              "        text-align: right;\n",
              "    }\n",
              "</style>\n",
              "<table border=\"1\" class=\"dataframe\">\n",
              "  <thead>\n",
              "    <tr style=\"text-align: right;\">\n",
              "      <th></th>\n",
              "      <th>고유번호</th>\n",
              "      <th>법정동코드</th>\n",
              "      <th>법정동명</th>\n",
              "      <th>특수지구분코드</th>\n",
              "      <th>특수지구분명</th>\n",
              "      <th>지번</th>\n",
              "      <th>표준지일련번호</th>\n",
              "      <th>기준연도</th>\n",
              "      <th>사업지구면적</th>\n",
              "      <th>지목코드</th>\n",
              "      <th>...</th>\n",
              "      <th>도로측면코드</th>\n",
              "      <th>도로측면</th>\n",
              "      <th>도로거리코드</th>\n",
              "      <th>도로거리</th>\n",
              "      <th>공시지가</th>\n",
              "      <th>표준지소유구분코드</th>\n",
              "      <th>표준지소유구분명</th>\n",
              "      <th>소유형태코드</th>\n",
              "      <th>소유형태명</th>\n",
              "      <th>데이터기준일자</th>\n",
              "    </tr>\n",
              "  </thead>\n",
              "  <tbody>\n",
              "    <tr>\n",
              "      <th>0</th>\n",
              "      <td>1111010100100030052</td>\n",
              "      <td>1111010100</td>\n",
              "      <td>서울특별시 종로구 청운동</td>\n",
              "      <td>1</td>\n",
              "      <td>일반</td>\n",
              "      <td>3-52</td>\n",
              "      <td>1</td>\n",
              "      <td>2012</td>\n",
              "      <td>0</td>\n",
              "      <td>22</td>\n",
              "      <td>...</td>\n",
              "      <td>10</td>\n",
              "      <td>세로한면(불)</td>\n",
              "      <td>0</td>\n",
              "      <td>지정되지않음</td>\n",
              "      <td>346000</td>\n",
              "      <td>NaN</td>\n",
              "      <td>NaN</td>\n",
              "      <td>1</td>\n",
              "      <td>단독소유</td>\n",
              "      <td>2016-11-08</td>\n",
              "    </tr>\n",
              "  </tbody>\n",
              "</table>\n",
              "<p>1 rows × 39 columns</p>\n",
              "</div>"
            ],
            "text/plain": [
              "                  고유번호       법정동코드           법정동명  특수지구분코드 특수지구분명    지번  \\\n",
              "0  1111010100100030052  1111010100  서울특별시 종로구 청운동        1     일반  3-52   \n",
              "\n",
              "   표준지일련번호  기준연도  사업지구면적  지목코드  ... 도로측면코드     도로측면 도로거리코드    도로거리    공시지가  \\\n",
              "0        1  2012       0    22  ...     10  세로한면(불)      0  지정되지않음  346000   \n",
              "\n",
              "  표준지소유구분코드  표준지소유구분명 소유형태코드  소유형태명     데이터기준일자  \n",
              "0       NaN       NaN      1   단독소유  2016-11-08  \n",
              "\n",
              "[1 rows x 39 columns]"
            ]
          },
          "metadata": {},
          "output_type": "display_data"
        },
        {
          "data": {
            "text/html": [
              "<div>\n",
              "<style scoped>\n",
              "    .dataframe tbody tr th:only-of-type {\n",
              "        vertical-align: middle;\n",
              "    }\n",
              "\n",
              "    .dataframe tbody tr th {\n",
              "        vertical-align: top;\n",
              "    }\n",
              "\n",
              "    .dataframe thead th {\n",
              "        text-align: right;\n",
              "    }\n",
              "</style>\n",
              "<table border=\"1\" class=\"dataframe\">\n",
              "  <thead>\n",
              "    <tr style=\"text-align: right;\">\n",
              "      <th></th>\n",
              "      <th>고유번호</th>\n",
              "      <th>법정동코드</th>\n",
              "      <th>법정동명</th>\n",
              "      <th>특수지구분코드</th>\n",
              "      <th>특수지구분명</th>\n",
              "      <th>지번</th>\n",
              "      <th>표준지일련번호</th>\n",
              "      <th>기준연도</th>\n",
              "      <th>사업지구면적</th>\n",
              "      <th>지목코드</th>\n",
              "      <th>...</th>\n",
              "      <th>도로측면코드</th>\n",
              "      <th>도로측면</th>\n",
              "      <th>도로거리코드</th>\n",
              "      <th>도로거리</th>\n",
              "      <th>공시지가</th>\n",
              "      <th>표준지소유구분코드</th>\n",
              "      <th>표준지소유구분명</th>\n",
              "      <th>소유형태코드</th>\n",
              "      <th>소유형태명</th>\n",
              "      <th>데이터기준일자</th>\n",
              "    </tr>\n",
              "  </thead>\n",
              "  <tbody>\n",
              "    <tr>\n",
              "      <th>0</th>\n",
              "      <td>4111112900100920004</td>\n",
              "      <td>4111112900</td>\n",
              "      <td>경기도 수원시 장안구 파장동</td>\n",
              "      <td>1</td>\n",
              "      <td>일반</td>\n",
              "      <td>92-4</td>\n",
              "      <td>1</td>\n",
              "      <td>2012</td>\n",
              "      <td>0</td>\n",
              "      <td>8</td>\n",
              "      <td>...</td>\n",
              "      <td>4</td>\n",
              "      <td>중로한면</td>\n",
              "      <td>0</td>\n",
              "      <td>지정되지않음</td>\n",
              "      <td>644000</td>\n",
              "      <td>NaN</td>\n",
              "      <td>NaN</td>\n",
              "      <td>0</td>\n",
              "      <td>지정되지않음</td>\n",
              "      <td>2016-11-08</td>\n",
              "    </tr>\n",
              "  </tbody>\n",
              "</table>\n",
              "<p>1 rows × 39 columns</p>\n",
              "</div>"
            ],
            "text/plain": [
              "                  고유번호       법정동코드             법정동명  특수지구분코드 특수지구분명    지번  \\\n",
              "0  4111112900100920004  4111112900  경기도 수원시 장안구 파장동        1     일반  92-4   \n",
              "\n",
              "   표준지일련번호  기준연도  사업지구면적  지목코드  ... 도로측면코드  도로측면 도로거리코드    도로거리    공시지가  \\\n",
              "0        1  2012       0     8  ...      4  중로한면      0  지정되지않음  644000   \n",
              "\n",
              "  표준지소유구분코드  표준지소유구분명 소유형태코드   소유형태명     데이터기준일자  \n",
              "0       NaN       NaN      0  지정되지않음  2016-11-08  \n",
              "\n",
              "[1 rows x 39 columns]"
            ]
          },
          "metadata": {},
          "output_type": "display_data"
        },
        {
          "data": {
            "text/html": [
              "<div>\n",
              "<style scoped>\n",
              "    .dataframe tbody tr th:only-of-type {\n",
              "        vertical-align: middle;\n",
              "    }\n",
              "\n",
              "    .dataframe tbody tr th {\n",
              "        vertical-align: top;\n",
              "    }\n",
              "\n",
              "    .dataframe thead th {\n",
              "        text-align: right;\n",
              "    }\n",
              "</style>\n",
              "<table border=\"1\" class=\"dataframe\">\n",
              "  <thead>\n",
              "    <tr style=\"text-align: right;\">\n",
              "      <th></th>\n",
              "      <th>고유번호</th>\n",
              "      <th>법정동코드</th>\n",
              "      <th>법정동명</th>\n",
              "      <th>특수지구분코드</th>\n",
              "      <th>특수지구분명</th>\n",
              "      <th>지번</th>\n",
              "      <th>표준지일련번호</th>\n",
              "      <th>기준연도</th>\n",
              "      <th>사업지구면적</th>\n",
              "      <th>지목코드</th>\n",
              "      <th>...</th>\n",
              "      <th>도로측면코드</th>\n",
              "      <th>도로측면</th>\n",
              "      <th>도로거리코드</th>\n",
              "      <th>도로거리</th>\n",
              "      <th>공시지가</th>\n",
              "      <th>표준지소유구분코드</th>\n",
              "      <th>표준지소유구분명</th>\n",
              "      <th>소유형태코드</th>\n",
              "      <th>소유형태명</th>\n",
              "      <th>데이터기준일자</th>\n",
              "    </tr>\n",
              "  </thead>\n",
              "  <tbody>\n",
              "    <tr>\n",
              "      <th>0</th>\n",
              "      <td>4211010100100030007</td>\n",
              "      <td>4211010100</td>\n",
              "      <td>강원도 춘천시 봉의동</td>\n",
              "      <td>1</td>\n",
              "      <td>일반</td>\n",
              "      <td>3-7</td>\n",
              "      <td>1</td>\n",
              "      <td>2012</td>\n",
              "      <td>0</td>\n",
              "      <td>8</td>\n",
              "      <td>...</td>\n",
              "      <td>8</td>\n",
              "      <td>세로한면(가)</td>\n",
              "      <td>0</td>\n",
              "      <td>지정되지않음</td>\n",
              "      <td>310000</td>\n",
              "      <td>NaN</td>\n",
              "      <td>NaN</td>\n",
              "      <td>0</td>\n",
              "      <td>지정되지않음</td>\n",
              "      <td>2016-11-08</td>\n",
              "    </tr>\n",
              "  </tbody>\n",
              "</table>\n",
              "<p>1 rows × 39 columns</p>\n",
              "</div>"
            ],
            "text/plain": [
              "                  고유번호       법정동코드         법정동명  특수지구분코드 특수지구분명   지번  표준지일련번호  \\\n",
              "0  4211010100100030007  4211010100  강원도 춘천시 봉의동        1     일반  3-7        1   \n",
              "\n",
              "   기준연도  사업지구면적  지목코드  ... 도로측면코드     도로측면 도로거리코드    도로거리    공시지가 표준지소유구분코드  \\\n",
              "0  2012       0     8  ...      8  세로한면(가)      0  지정되지않음  310000       NaN   \n",
              "\n",
              "   표준지소유구분명 소유형태코드   소유형태명     데이터기준일자  \n",
              "0       NaN      0  지정되지않음  2016-11-08  \n",
              "\n",
              "[1 rows x 39 columns]"
            ]
          },
          "metadata": {},
          "output_type": "display_data"
        }
      ],
      "source": [
        "display(seoul.head(1))\n",
        "display(gyeonggi.head(1))\n",
        "display(gangwon.head(1))"
      ]
    },
    {
      "cell_type": "code",
      "execution_count": null,
      "metadata": {
        "id": "5HB_qYavUtb-",
        "outputId": "5e7363be-c63a-429e-dd10-8034b6ac440a"
      },
      "outputs": [
        {
          "name": "stdout",
          "output_type": "stream",
          "text": [
            "동대문구: 13858\n",
            "양평군: 31935\n",
            "속초시: 9762\n"
          ]
        }
      ],
      "source": [
        "dongdaemun_idx = seoul['법정동명'].apply(lambda row: row.split()[1]=='동대문구')\n",
        "yangpyeon_idx = gyeonggi['법정동명'].apply(lambda row: row.split()[1]=='양평군')\n",
        "sokcho_idx = gangwon['법정동명'].apply(lambda row: row.split()[1]=='속초시')\n",
        "\n",
        "print('동대문구:', sum(dongdaemun_idx))\n",
        "print('양평군:', sum(yangpyeon_idx))\n",
        "print('속초시:', sum(sokcho_idx))"
      ]
    },
    {
      "cell_type": "code",
      "execution_count": null,
      "metadata": {
        "id": "lZxJvMGtUtcA"
      },
      "outputs": [],
      "source": [
        "dongdaemun = seoul[dongdaemun_idx]\n",
        "yangpyeon = gyeonggi[yangpyeon_idx]\n",
        "sokcho = gangwon[sokcho_idx]"
      ]
    },
    {
      "cell_type": "code",
      "execution_count": null,
      "metadata": {
        "id": "orO2eUzjUtcB"
      },
      "outputs": [],
      "source": [
        "dongdaemun.to_csv('dongdaemun.csv',encoding='cp949', index=False)\n",
        "yangpyeon.to_csv('yangpyeon.csv',encoding='cp949', index=False)\n",
        "sokcho.to_csv('sokcho.csv',encoding='cp949', index=False)"
      ]
    },
    {
      "cell_type": "code",
      "source": [
        "import shapely"
      ],
      "metadata": {
        "id": "r_gurvrDVC56"
      },
      "execution_count": null,
      "outputs": []
    },
    {
      "cell_type": "code",
      "execution_count": null,
      "metadata": {
        "id": "d6hNOmeRVUz8"
      },
      "outputs": [],
      "source": [
        "dongdaemun = pd.read_csv('/content/drive/MyDrive/공간정보활용 공모전/dongdaemun.csv',encoding='cp949')\n",
        "yangpyeon = pd.read_csv('/content/drive/MyDrive/공간정보활용 공모전/yangpyeon.csv',encoding='cp949')\n",
        "sokcho = pd.read_csv('/content/drive/MyDrive/공간정보활용 공모전/sokcho.csv',encoding='cp949')"
      ]
    },
    {
      "cell_type": "code",
      "source": [
        "dongdaemun = dongdaemun.drop('Unnamed: 0', axis=1)\n",
        "yangpyeon = yangpyeon.drop('Unnamed: 0', axis=1)\n",
        "sokcho = sokcho.drop('Unnamed: 0', axis=1)"
      ],
      "metadata": {
        "id": "XCO2hn5AXTeC"
      },
      "execution_count": null,
      "outputs": []
    },
    {
      "cell_type": "code",
      "source": [
        "dongdaemun.to_csv('/content/drive/MyDrive/공간정보활용 공모전/dongdaemun.csv',encoding='cp949', index=False)\n",
        "yangpyeon.to_csv('/content/drive/MyDrive/공간정보활용 공모전/yangpyeon.csv',encoding='cp949', index=False)\n",
        "sokcho.to_csv('/content/drive/MyDrive/공간정보활용 공모전/sokcho.csv',encoding='cp949', index=False)"
      ],
      "metadata": {
        "id": "7Npkf6MKVYg1"
      },
      "execution_count": null,
      "outputs": []
    }
  ],
  "metadata": {
    "kernelspec": {
      "display_name": "Python 3",
      "language": "python",
      "name": "python3"
    },
    "language_info": {
      "codemirror_mode": {
        "name": "ipython",
        "version": 3
      },
      "file_extension": ".py",
      "mimetype": "text/x-python",
      "name": "python",
      "nbconvert_exporter": "python",
      "pygments_lexer": "ipython3",
      "version": "3.8.5"
    },
    "colab": {
      "provenance": []
    }
  },
  "nbformat": 4,
  "nbformat_minor": 0
}