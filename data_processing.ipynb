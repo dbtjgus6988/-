{
  "nbformat": 4,
  "nbformat_minor": 0,
  "metadata": {
    "colab": {
      "provenance": []
    },
    "kernelspec": {
      "name": "python3",
      "display_name": "Python 3"
    },
    "language_info": {
      "name": "python"
    }
  },
  "cells": [
    {
      "cell_type": "code",
      "execution_count": null,
      "metadata": {
        "colab": {
          "base_uri": "https://localhost:8080/"
        },
        "id": "e0PS9NfN1xgW",
        "outputId": "855c8951-0b12-456a-8054-2c07f8430fd3"
      },
      "outputs": [
        {
          "output_type": "stream",
          "name": "stdout",
          "text": [
            "Looking in indexes: https://pypi.org/simple, https://us-python.pkg.dev/colab-wheels/public/simple/\n",
            "Collecting geopandas\n",
            "  Downloading geopandas-0.12.2-py3-none-any.whl (1.1 MB)\n",
            "\u001b[2K     \u001b[90m━━━━━━━━━━━━━━━━━━━━━━━━━━━━━━━━━━━━━━━━\u001b[0m \u001b[32m1.1/1.1 MB\u001b[0m \u001b[31m12.6 MB/s\u001b[0m eta \u001b[36m0:00:00\u001b[0m\n",
            "\u001b[?25hRequirement already satisfied: shapely>=1.7 in /usr/local/lib/python3.8/dist-packages (from geopandas) (2.0.1)\n",
            "Collecting pyproj>=2.6.1.post1\n",
            "  Downloading pyproj-3.4.1-cp38-cp38-manylinux_2_17_x86_64.manylinux2014_x86_64.whl (7.8 MB)\n",
            "\u001b[2K     \u001b[90m━━━━━━━━━━━━━━━━━━━━━━━━━━━━━━━━━━━━━━━━\u001b[0m \u001b[32m7.8/7.8 MB\u001b[0m \u001b[31m51.6 MB/s\u001b[0m eta \u001b[36m0:00:00\u001b[0m\n",
            "\u001b[?25hCollecting fiona>=1.8\n",
            "  Downloading Fiona-1.9.1-cp38-cp38-manylinux_2_17_x86_64.manylinux2014_x86_64.whl (16.0 MB)\n",
            "\u001b[2K     \u001b[90m━━━━━━━━━━━━━━━━━━━━━━━━━━━━━━━━━━━━━━━━\u001b[0m \u001b[32m16.0/16.0 MB\u001b[0m \u001b[31m41.0 MB/s\u001b[0m eta \u001b[36m0:00:00\u001b[0m\n",
            "\u001b[?25hRequirement already satisfied: pandas>=1.0.0 in /usr/local/lib/python3.8/dist-packages (from geopandas) (1.3.5)\n",
            "Requirement already satisfied: packaging in /usr/local/lib/python3.8/dist-packages (from geopandas) (23.0)\n",
            "Collecting cligj>=0.5\n",
            "  Downloading cligj-0.7.2-py3-none-any.whl (7.1 kB)\n",
            "Requirement already satisfied: certifi in /usr/local/lib/python3.8/dist-packages (from fiona>=1.8->geopandas) (2022.12.7)\n",
            "Requirement already satisfied: attrs>=19.2.0 in /usr/local/lib/python3.8/dist-packages (from fiona>=1.8->geopandas) (22.2.0)\n",
            "Collecting click~=8.0\n",
            "  Downloading click-8.1.3-py3-none-any.whl (96 kB)\n",
            "\u001b[2K     \u001b[90m━━━━━━━━━━━━━━━━━━━━━━━━━━━━━━━━━━━━━━━━\u001b[0m \u001b[32m96.6/96.6 KB\u001b[0m \u001b[31m3.0 MB/s\u001b[0m eta \u001b[36m0:00:00\u001b[0m\n",
            "\u001b[?25hCollecting munch>=2.3.2\n",
            "  Downloading munch-2.5.0-py2.py3-none-any.whl (10 kB)\n",
            "Collecting click-plugins>=1.0\n",
            "  Downloading click_plugins-1.1.1-py2.py3-none-any.whl (7.5 kB)\n",
            "Requirement already satisfied: setuptools in /usr/local/lib/python3.8/dist-packages (from fiona>=1.8->geopandas) (57.4.0)\n",
            "Requirement already satisfied: pytz>=2017.3 in /usr/local/lib/python3.8/dist-packages (from pandas>=1.0.0->geopandas) (2022.7.1)\n",
            "Requirement already satisfied: python-dateutil>=2.7.3 in /usr/local/lib/python3.8/dist-packages (from pandas>=1.0.0->geopandas) (2.8.2)\n",
            "Requirement already satisfied: numpy>=1.17.3 in /usr/local/lib/python3.8/dist-packages (from pandas>=1.0.0->geopandas) (1.21.6)\n",
            "Requirement already satisfied: six in /usr/local/lib/python3.8/dist-packages (from munch>=2.3.2->fiona>=1.8->geopandas) (1.15.0)\n",
            "Installing collected packages: pyproj, munch, click, cligj, click-plugins, fiona, geopandas\n",
            "  Attempting uninstall: click\n",
            "    Found existing installation: click 7.1.2\n",
            "    Uninstalling click-7.1.2:\n",
            "      Successfully uninstalled click-7.1.2\n",
            "\u001b[31mERROR: pip's dependency resolver does not currently take into account all the packages that are installed. This behaviour is the source of the following dependency conflicts.\n",
            "flask 1.1.4 requires click<8.0,>=5.1, but you have click 8.1.3 which is incompatible.\u001b[0m\u001b[31m\n",
            "\u001b[0mSuccessfully installed click-8.1.3 click-plugins-1.1.1 cligj-0.7.2 fiona-1.9.1 geopandas-0.12.2 munch-2.5.0 pyproj-3.4.1\n"
          ]
        }
      ],
      "source": [
        "!pip install geopandas"
      ]
    },
    {
      "cell_type": "code",
      "source": [
        "from google.colab import drive\n",
        "drive.mount('/content/drive')"
      ],
      "metadata": {
        "id": "orN0PS141-Hl",
        "colab": {
          "base_uri": "https://localhost:8080/"
        },
        "outputId": "af288f70-b27f-4456-e71c-7890a926899d"
      },
      "execution_count": null,
      "outputs": [
        {
          "output_type": "stream",
          "name": "stdout",
          "text": [
            "Mounted at /content/drive\n"
          ]
        }
      ]
    },
    {
      "cell_type": "code",
      "source": [
        "%cd /content/drive/MyDrive/공간정보활용 공모전/"
      ],
      "metadata": {
        "id": "PKVrutWL2GJO",
        "colab": {
          "base_uri": "https://localhost:8080/"
        },
        "outputId": "a317fbf1-16f4-4e3d-dc8d-0113a24c7468"
      },
      "execution_count": null,
      "outputs": [
        {
          "output_type": "stream",
          "name": "stdout",
          "text": [
            "/content/drive/.shortcut-targets-by-id/12CdYaiaXminsUG-MrYvqDyVBDHcUxd6B/공간정보활용 공모전\n"
          ]
        }
      ]
    },
    {
      "cell_type": "code",
      "source": [
        "from dataProcssingFunction import polygon2gray\n",
        "from torchvision import transforms\n",
        "\n",
        "import torch\n",
        "import numpy as np\n",
        "import pandas as pd\n",
        "import geopandas as gpd\n",
        "\n",
        "print(gpd.__version__)"
      ],
      "metadata": {
        "id": "_etFETjQ2NdY",
        "colab": {
          "base_uri": "https://localhost:8080/"
        },
        "outputId": "496d2e95-ea4f-45e4-8eca-6e41487da90c"
      },
      "execution_count": null,
      "outputs": [
        {
          "output_type": "stream",
          "name": "stdout",
          "text": [
            "0.12.2\n"
          ]
        }
      ]
    },
    {
      "cell_type": "code",
      "source": [
        "file = '/content/drive/MyDrive/공간정보활용 공모전/yangpyeong.csv'\n",
        "eval = pd.read_csv(file, encoding='cp949')\n",
        "\n",
        "file = '/content/drive/MyDrive/공간정보활용 공모전/양평군/AL_41830_D194_20221115.shp'\n",
        "yangpyeong = gpd.read_file(file, encoding='euckr')"
      ],
      "metadata": {
        "id": "8p4qXazX2RdB"
      },
      "execution_count": null,
      "outputs": []
    },
    {
      "cell_type": "code",
      "source": [
        "yangpyeong['A2'] = yangpyeong['A2'].astype('int64')\n",
        "yangpyeong['A1'] = yangpyeong['A1'].astype('int64')\n",
        "df = pd.merge(eval[eval['기준연도']==2022][['고유번호', '지형형상', '지형형상코드']], yangpyeong[['A1', 'A21', 'A22', 'geometry']], how='inner', left_on='고유번호', right_on='A1')\n",
        "df = df.drop(['지형형상', 'A1', 'A21', 'A22'], axis=1)\n",
        "df.rename(columns = {'고유번호' : 'id', '지형형상코드' : 'label'}, inplace = True)\n",
        "eval= df"
      ],
      "metadata": {
        "id": "ALmeH_qKeb1G"
      },
      "execution_count": null,
      "outputs": []
    },
    {
      "cell_type": "code",
      "source": [
        "eval"
      ],
      "metadata": {
        "id": "3HFddqtogyd2",
        "outputId": "26f29b07-4bf8-4377-a14e-d1b31918f675",
        "colab": {
          "base_uri": "https://localhost:8080/",
          "height": 424
        }
      },
      "execution_count": null,
      "outputs": [
        {
          "output_type": "execute_result",
          "data": {
            "text/plain": [
              "                       id  label  \\\n",
              "0     4183025021100190000      5   \n",
              "1     4183025021100250002      5   \n",
              "2     4183025021100430000      5   \n",
              "3     4183025021100520006      5   \n",
              "4     4183025021100630000      5   \n",
              "...                   ...    ...   \n",
              "3362  4183041033103530001      4   \n",
              "3363  4183041033103770001      4   \n",
              "3364  4183041033104200001      1   \n",
              "3365  4183041033200270000      5   \n",
              "3366  4183041033200350000      4   \n",
              "\n",
              "                                               geometry  \n",
              "0     POLYGON ((243667.051 444549.502, 243667.385 44...  \n",
              "1     POLYGON ((243549.876 444587.228, 243550.293 44...  \n",
              "2     POLYGON ((243558.737 444373.079, 243546.649 44...  \n",
              "3     POLYGON ((243368.424 444209.815, 243367.309 44...  \n",
              "4     POLYGON ((243211.299 444263.362, 243212.952 44...  \n",
              "...                                                 ...  \n",
              "3362  POLYGON ((247510.734 435249.729, 247504.584 43...  \n",
              "3363  POLYGON ((247873.815 435739.637, 247877.735 43...  \n",
              "3364  POLYGON ((247495.839 435539.442, 247492.199 43...  \n",
              "3365  POLYGON ((248196.809 435113.835, 248195.539 43...  \n",
              "3366  POLYGON ((248444.410 434763.769, 248558.734 43...  \n",
              "\n",
              "[3367 rows x 3 columns]"
            ],
            "text/html": [
              "\n",
              "  <div id=\"df-388b45bf-7927-49c1-9850-8b33bf81ea65\">\n",
              "    <div class=\"colab-df-container\">\n",
              "      <div>\n",
              "<style scoped>\n",
              "    .dataframe tbody tr th:only-of-type {\n",
              "        vertical-align: middle;\n",
              "    }\n",
              "\n",
              "    .dataframe tbody tr th {\n",
              "        vertical-align: top;\n",
              "    }\n",
              "\n",
              "    .dataframe thead th {\n",
              "        text-align: right;\n",
              "    }\n",
              "</style>\n",
              "<table border=\"1\" class=\"dataframe\">\n",
              "  <thead>\n",
              "    <tr style=\"text-align: right;\">\n",
              "      <th></th>\n",
              "      <th>id</th>\n",
              "      <th>label</th>\n",
              "      <th>geometry</th>\n",
              "    </tr>\n",
              "  </thead>\n",
              "  <tbody>\n",
              "    <tr>\n",
              "      <th>0</th>\n",
              "      <td>4183025021100190000</td>\n",
              "      <td>5</td>\n",
              "      <td>POLYGON ((243667.051 444549.502, 243667.385 44...</td>\n",
              "    </tr>\n",
              "    <tr>\n",
              "      <th>1</th>\n",
              "      <td>4183025021100250002</td>\n",
              "      <td>5</td>\n",
              "      <td>POLYGON ((243549.876 444587.228, 243550.293 44...</td>\n",
              "    </tr>\n",
              "    <tr>\n",
              "      <th>2</th>\n",
              "      <td>4183025021100430000</td>\n",
              "      <td>5</td>\n",
              "      <td>POLYGON ((243558.737 444373.079, 243546.649 44...</td>\n",
              "    </tr>\n",
              "    <tr>\n",
              "      <th>3</th>\n",
              "      <td>4183025021100520006</td>\n",
              "      <td>5</td>\n",
              "      <td>POLYGON ((243368.424 444209.815, 243367.309 44...</td>\n",
              "    </tr>\n",
              "    <tr>\n",
              "      <th>4</th>\n",
              "      <td>4183025021100630000</td>\n",
              "      <td>5</td>\n",
              "      <td>POLYGON ((243211.299 444263.362, 243212.952 44...</td>\n",
              "    </tr>\n",
              "    <tr>\n",
              "      <th>...</th>\n",
              "      <td>...</td>\n",
              "      <td>...</td>\n",
              "      <td>...</td>\n",
              "    </tr>\n",
              "    <tr>\n",
              "      <th>3362</th>\n",
              "      <td>4183041033103530001</td>\n",
              "      <td>4</td>\n",
              "      <td>POLYGON ((247510.734 435249.729, 247504.584 43...</td>\n",
              "    </tr>\n",
              "    <tr>\n",
              "      <th>3363</th>\n",
              "      <td>4183041033103770001</td>\n",
              "      <td>4</td>\n",
              "      <td>POLYGON ((247873.815 435739.637, 247877.735 43...</td>\n",
              "    </tr>\n",
              "    <tr>\n",
              "      <th>3364</th>\n",
              "      <td>4183041033104200001</td>\n",
              "      <td>1</td>\n",
              "      <td>POLYGON ((247495.839 435539.442, 247492.199 43...</td>\n",
              "    </tr>\n",
              "    <tr>\n",
              "      <th>3365</th>\n",
              "      <td>4183041033200270000</td>\n",
              "      <td>5</td>\n",
              "      <td>POLYGON ((248196.809 435113.835, 248195.539 43...</td>\n",
              "    </tr>\n",
              "    <tr>\n",
              "      <th>3366</th>\n",
              "      <td>4183041033200350000</td>\n",
              "      <td>4</td>\n",
              "      <td>POLYGON ((248444.410 434763.769, 248558.734 43...</td>\n",
              "    </tr>\n",
              "  </tbody>\n",
              "</table>\n",
              "<p>3367 rows × 3 columns</p>\n",
              "</div>\n",
              "      <button class=\"colab-df-convert\" onclick=\"convertToInteractive('df-388b45bf-7927-49c1-9850-8b33bf81ea65')\"\n",
              "              title=\"Convert this dataframe to an interactive table.\"\n",
              "              style=\"display:none;\">\n",
              "        \n",
              "  <svg xmlns=\"http://www.w3.org/2000/svg\" height=\"24px\"viewBox=\"0 0 24 24\"\n",
              "       width=\"24px\">\n",
              "    <path d=\"M0 0h24v24H0V0z\" fill=\"none\"/>\n",
              "    <path d=\"M18.56 5.44l.94 2.06.94-2.06 2.06-.94-2.06-.94-.94-2.06-.94 2.06-2.06.94zm-11 1L8.5 8.5l.94-2.06 2.06-.94-2.06-.94L8.5 2.5l-.94 2.06-2.06.94zm10 10l.94 2.06.94-2.06 2.06-.94-2.06-.94-.94-2.06-.94 2.06-2.06.94z\"/><path d=\"M17.41 7.96l-1.37-1.37c-.4-.4-.92-.59-1.43-.59-.52 0-1.04.2-1.43.59L10.3 9.45l-7.72 7.72c-.78.78-.78 2.05 0 2.83L4 21.41c.39.39.9.59 1.41.59.51 0 1.02-.2 1.41-.59l7.78-7.78 2.81-2.81c.8-.78.8-2.07 0-2.86zM5.41 20L4 18.59l7.72-7.72 1.47 1.35L5.41 20z\"/>\n",
              "  </svg>\n",
              "      </button>\n",
              "      \n",
              "  <style>\n",
              "    .colab-df-container {\n",
              "      display:flex;\n",
              "      flex-wrap:wrap;\n",
              "      gap: 12px;\n",
              "    }\n",
              "\n",
              "    .colab-df-convert {\n",
              "      background-color: #E8F0FE;\n",
              "      border: none;\n",
              "      border-radius: 50%;\n",
              "      cursor: pointer;\n",
              "      display: none;\n",
              "      fill: #1967D2;\n",
              "      height: 32px;\n",
              "      padding: 0 0 0 0;\n",
              "      width: 32px;\n",
              "    }\n",
              "\n",
              "    .colab-df-convert:hover {\n",
              "      background-color: #E2EBFA;\n",
              "      box-shadow: 0px 1px 2px rgba(60, 64, 67, 0.3), 0px 1px 3px 1px rgba(60, 64, 67, 0.15);\n",
              "      fill: #174EA6;\n",
              "    }\n",
              "\n",
              "    [theme=dark] .colab-df-convert {\n",
              "      background-color: #3B4455;\n",
              "      fill: #D2E3FC;\n",
              "    }\n",
              "\n",
              "    [theme=dark] .colab-df-convert:hover {\n",
              "      background-color: #434B5C;\n",
              "      box-shadow: 0px 1px 3px 1px rgba(0, 0, 0, 0.15);\n",
              "      filter: drop-shadow(0px 1px 2px rgba(0, 0, 0, 0.3));\n",
              "      fill: #FFFFFF;\n",
              "    }\n",
              "  </style>\n",
              "\n",
              "      <script>\n",
              "        const buttonEl =\n",
              "          document.querySelector('#df-388b45bf-7927-49c1-9850-8b33bf81ea65 button.colab-df-convert');\n",
              "        buttonEl.style.display =\n",
              "          google.colab.kernel.accessAllowed ? 'block' : 'none';\n",
              "\n",
              "        async function convertToInteractive(key) {\n",
              "          const element = document.querySelector('#df-388b45bf-7927-49c1-9850-8b33bf81ea65');\n",
              "          const dataTable =\n",
              "            await google.colab.kernel.invokeFunction('convertToInteractive',\n",
              "                                                     [key], {});\n",
              "          if (!dataTable) return;\n",
              "\n",
              "          const docLinkHtml = 'Like what you see? Visit the ' +\n",
              "            '<a target=\"_blank\" href=https://colab.research.google.com/notebooks/data_table.ipynb>data table notebook</a>'\n",
              "            + ' to learn more about interactive tables.';\n",
              "          element.innerHTML = '';\n",
              "          dataTable['output_type'] = 'display_data';\n",
              "          await google.colab.output.renderOutput(dataTable, element);\n",
              "          const docLink = document.createElement('div');\n",
              "          docLink.innerHTML = docLinkHtml;\n",
              "          element.appendChild(docLink);\n",
              "        }\n",
              "      </script>\n",
              "    </div>\n",
              "  </div>\n",
              "  "
            ]
          },
          "metadata": {},
          "execution_count": 15
        }
      ]
    },
    {
      "cell_type": "code",
      "source": [
        "yangpyeong.dropna(subset=['A21'], inplace=True)\n",
        "yangpyeong.drop(yangpyeong[yangpyeong.A22.eq('지정되지않음')].index, inplace=True)\n",
        "yangpyeong.drop(yangpyeong[yangpyeong.A18.eq('도로등')].index, inplace=True)\n",
        "yangpyeong.drop(yangpyeong[yangpyeong.A18.eq('하천등')].index, inplace=True)\n",
        "yangpyeong.drop(yangpyeong[yangpyeong.A11.eq('하천')].index, inplace=True)\n",
        "yangpyeong.drop(yangpyeong[yangpyeong.geometry.type == 'MultiPolygon'].index, inplace=True)"
      ],
      "metadata": {
        "id": "5G6P0E6I24tM"
      },
      "execution_count": null,
      "outputs": []
    },
    {
      "cell_type": "code",
      "source": [
        "yangpyeong['A21'].count()"
      ],
      "metadata": {
        "colab": {
          "base_uri": "https://localhost:8080/"
        },
        "id": "9nHc5dpMfe-f",
        "outputId": "fc445d18-dd51-499d-e573-0ddb35507ada"
      },
      "execution_count": null,
      "outputs": [
        {
          "output_type": "execute_result",
          "data": {
            "text/plain": [
              "234921"
            ]
          },
          "metadata": {},
          "execution_count": 10
        }
      ]
    },
    {
      "cell_type": "code",
      "source": [
        "yangpyeong['A21'].value_counts().sort_index()"
      ],
      "metadata": {
        "colab": {
          "base_uri": "https://localhost:8080/"
        },
        "id": "F78t3geRfiZT",
        "outputId": "482b5d67-0ec4-4103-f6fe-278fb3e971f7"
      },
      "execution_count": null,
      "outputs": [
        {
          "output_type": "execute_result",
          "data": {
            "text/plain": [
              "01      2684\n",
              "02      3824\n",
              "03      9654\n",
              "04     65094\n",
              "05    151051\n",
              "06      2614\n",
              "Name: A21, dtype: int64"
            ]
          },
          "metadata": {},
          "execution_count": 11
        }
      ]
    },
    {
      "cell_type": "code",
      "source": [
        "yangpyeong['A21'].value_counts(normalize=True).sort_index()*100"
      ],
      "metadata": {
        "id": "MO7NFf8imssl",
        "outputId": "b27bda8f-869d-47ab-bc41-601f81ea4cee",
        "colab": {
          "base_uri": "https://localhost:8080/"
        }
      },
      "execution_count": null,
      "outputs": [
        {
          "output_type": "execute_result",
          "data": {
            "text/plain": [
              "01     1.142512\n",
              "02     1.627781\n",
              "03     4.109467\n",
              "04    27.708889\n",
              "05    64.298637\n",
              "06     1.112714\n",
              "Name: A21, dtype: float64"
            ]
          },
          "metadata": {},
          "execution_count": 16
        }
      ]
    },
    {
      "cell_type": "code",
      "source": [
        "#temp = pd.merge(eval, yangpyeong, how='outer', indicator=True)\n",
        "#temp = temp.query('_merge == \"right_only\"').drop(columns=['_merge', 'id', 'label'])\n",
        "temp = yangpyeong"
      ],
      "metadata": {
        "id": "UvO0FF1o3OE7"
      },
      "execution_count": null,
      "outputs": []
    },
    {
      "cell_type": "code",
      "source": [
        "temp"
      ],
      "metadata": {
        "colab": {
          "base_uri": "https://localhost:8080/",
          "height": 424
        },
        "id": "oow74LyR0-Qi",
        "outputId": "936bb574-fbe8-48be-d8cc-43dd40473d9b"
      },
      "execution_count": null,
      "outputs": [
        {
          "output_type": "execute_result",
          "data": {
            "text/plain": [
              "               A0                   A1          A2                A3 A4  A5  \\\n",
              "0       472381282  4183025021100010000  4183025021   경기도 양평군 양평읍 양근리  1  일반   \n",
              "2       472468128  4183025021100020002  4183025021   경기도 양평군 양평읍 양근리  1  일반   \n",
              "3       472384090  4183025021100020003  4183025021   경기도 양평군 양평읍 양근리  1  일반   \n",
              "4       472407997  4183025021100020004  4183025021   경기도 양평군 양평읍 양근리  1  일반   \n",
              "5       472441333  4183025021100020005  4183025021   경기도 양평군 양평읍 양근리  1  일반   \n",
              "...           ...                  ...         ...               ... ..  ..   \n",
              "331568  472172632  4183041033200430000  4183041033  경기도 양평군 개군면 상자포리  2   산   \n",
              "331569  472156581  4183041033200440000  4183041033  경기도 양평군 개군면 상자포리  2   산   \n",
              "331570  472169561  4183041033200450001  4183041033  경기도 양평군 개군면 상자포리  2   산   \n",
              "331571  472453123  4183041033200460000  4183041033  경기도 양평군 개군면 상자포리  2   산   \n",
              "331573  472152033  4183041033200460004  4183041033  경기도 양평군 개군면 상자포리  2   산   \n",
              "\n",
              "          A6      A7    A8  A9  ...   A18 A19  A20 A21  A22 A23      A24  \\\n",
              "0          1      1전  2022  01  ...     전  03  완경사   5  부정형  12       맹지   \n",
              "2        2-2    2-2창  2022  01  ...  주거기타  03  완경사   5  부정형  08  세로한면(가)   \n",
              "3        2-3    2-3임  2022  01  ...   자연림  03  완경사   5  부정형  12       맹지   \n",
              "4        2-4    2-4임  2022  01  ...     전  03  완경사   5  부정형  12       맹지   \n",
              "5        2-5    2-5임  2022  01  ...   전기타  03  완경사   5  부정형  12       맹지   \n",
              "...      ...     ...   ...  ..  ...   ...  ..  ...  ..  ...  ..      ...   \n",
              "331568    43    산43임  2022  01  ...    조림  04  급경사   5  부정형  12       맹지   \n",
              "331569    44    산44임  2022  01  ...   자연림  04  급경사   5  부정형  12       맹지   \n",
              "331570  45-1  산45-1임  2022  01  ...   자연림  04  급경사   5  부정형  12       맹지   \n",
              "331571    46    산46임  2022  01  ...   자연림  03  완경사   5  부정형  06     소로한면   \n",
              "331573  46-4  산46-4임  2022  01  ...   자연림  03  완경사   5  부정형  12       맹지   \n",
              "\n",
              "             A25         A26  \\\n",
              "0       203300.0  2022-11-08   \n",
              "2       407500.0  2022-11-08   \n",
              "3        51000.0  2022-11-08   \n",
              "4       186900.0  2022-11-08   \n",
              "5       186900.0  2022-11-08   \n",
              "...          ...         ...   \n",
              "331568    5470.0  2022-11-08   \n",
              "331569    8710.0  2022-11-08   \n",
              "331570    8520.0  2022-11-08   \n",
              "331571   16300.0  2022-11-08   \n",
              "331573   13000.0  2022-11-08   \n",
              "\n",
              "                                                 geometry  \n",
              "0       POLYGON ((243572.696 444754.136, 243552.607 44...  \n",
              "2       POLYGON ((243594.681 444632.861, 243597.473 44...  \n",
              "3       POLYGON ((243508.079 444706.674, 243513.364 44...  \n",
              "4       POLYGON ((243572.907 444761.590, 243587.679 44...  \n",
              "5       POLYGON ((243617.495 444685.045, 243593.633 44...  \n",
              "...                                                   ...  \n",
              "331568  POLYGON ((248165.325 434368.307, 248165.620 43...  \n",
              "331569  POLYGON ((248165.620 434391.068, 248165.325 43...  \n",
              "331570  POLYGON ((248025.182 434753.340, 248044.082 43...  \n",
              "331571  POLYGON ((247729.197 434700.291, 247730.517 43...  \n",
              "331573  POLYGON ((247997.041 434767.177, 247993.105 43...  \n",
              "\n",
              "[234921 rows x 28 columns]"
            ],
            "text/html": [
              "\n",
              "  <div id=\"df-5ce5e9b6-b8ca-4865-9348-08fba31ce7e3\">\n",
              "    <div class=\"colab-df-container\">\n",
              "      <div>\n",
              "<style scoped>\n",
              "    .dataframe tbody tr th:only-of-type {\n",
              "        vertical-align: middle;\n",
              "    }\n",
              "\n",
              "    .dataframe tbody tr th {\n",
              "        vertical-align: top;\n",
              "    }\n",
              "\n",
              "    .dataframe thead th {\n",
              "        text-align: right;\n",
              "    }\n",
              "</style>\n",
              "<table border=\"1\" class=\"dataframe\">\n",
              "  <thead>\n",
              "    <tr style=\"text-align: right;\">\n",
              "      <th></th>\n",
              "      <th>A0</th>\n",
              "      <th>A1</th>\n",
              "      <th>A2</th>\n",
              "      <th>A3</th>\n",
              "      <th>A4</th>\n",
              "      <th>A5</th>\n",
              "      <th>A6</th>\n",
              "      <th>A7</th>\n",
              "      <th>A8</th>\n",
              "      <th>A9</th>\n",
              "      <th>...</th>\n",
              "      <th>A18</th>\n",
              "      <th>A19</th>\n",
              "      <th>A20</th>\n",
              "      <th>A21</th>\n",
              "      <th>A22</th>\n",
              "      <th>A23</th>\n",
              "      <th>A24</th>\n",
              "      <th>A25</th>\n",
              "      <th>A26</th>\n",
              "      <th>geometry</th>\n",
              "    </tr>\n",
              "  </thead>\n",
              "  <tbody>\n",
              "    <tr>\n",
              "      <th>0</th>\n",
              "      <td>472381282</td>\n",
              "      <td>4183025021100010000</td>\n",
              "      <td>4183025021</td>\n",
              "      <td>경기도 양평군 양평읍 양근리</td>\n",
              "      <td>1</td>\n",
              "      <td>일반</td>\n",
              "      <td>1</td>\n",
              "      <td>1전</td>\n",
              "      <td>2022</td>\n",
              "      <td>01</td>\n",
              "      <td>...</td>\n",
              "      <td>전</td>\n",
              "      <td>03</td>\n",
              "      <td>완경사</td>\n",
              "      <td>5</td>\n",
              "      <td>부정형</td>\n",
              "      <td>12</td>\n",
              "      <td>맹지</td>\n",
              "      <td>203300.0</td>\n",
              "      <td>2022-11-08</td>\n",
              "      <td>POLYGON ((243572.696 444754.136, 243552.607 44...</td>\n",
              "    </tr>\n",
              "    <tr>\n",
              "      <th>2</th>\n",
              "      <td>472468128</td>\n",
              "      <td>4183025021100020002</td>\n",
              "      <td>4183025021</td>\n",
              "      <td>경기도 양평군 양평읍 양근리</td>\n",
              "      <td>1</td>\n",
              "      <td>일반</td>\n",
              "      <td>2-2</td>\n",
              "      <td>2-2창</td>\n",
              "      <td>2022</td>\n",
              "      <td>01</td>\n",
              "      <td>...</td>\n",
              "      <td>주거기타</td>\n",
              "      <td>03</td>\n",
              "      <td>완경사</td>\n",
              "      <td>5</td>\n",
              "      <td>부정형</td>\n",
              "      <td>08</td>\n",
              "      <td>세로한면(가)</td>\n",
              "      <td>407500.0</td>\n",
              "      <td>2022-11-08</td>\n",
              "      <td>POLYGON ((243594.681 444632.861, 243597.473 44...</td>\n",
              "    </tr>\n",
              "    <tr>\n",
              "      <th>3</th>\n",
              "      <td>472384090</td>\n",
              "      <td>4183025021100020003</td>\n",
              "      <td>4183025021</td>\n",
              "      <td>경기도 양평군 양평읍 양근리</td>\n",
              "      <td>1</td>\n",
              "      <td>일반</td>\n",
              "      <td>2-3</td>\n",
              "      <td>2-3임</td>\n",
              "      <td>2022</td>\n",
              "      <td>01</td>\n",
              "      <td>...</td>\n",
              "      <td>자연림</td>\n",
              "      <td>03</td>\n",
              "      <td>완경사</td>\n",
              "      <td>5</td>\n",
              "      <td>부정형</td>\n",
              "      <td>12</td>\n",
              "      <td>맹지</td>\n",
              "      <td>51000.0</td>\n",
              "      <td>2022-11-08</td>\n",
              "      <td>POLYGON ((243508.079 444706.674, 243513.364 44...</td>\n",
              "    </tr>\n",
              "    <tr>\n",
              "      <th>4</th>\n",
              "      <td>472407997</td>\n",
              "      <td>4183025021100020004</td>\n",
              "      <td>4183025021</td>\n",
              "      <td>경기도 양평군 양평읍 양근리</td>\n",
              "      <td>1</td>\n",
              "      <td>일반</td>\n",
              "      <td>2-4</td>\n",
              "      <td>2-4임</td>\n",
              "      <td>2022</td>\n",
              "      <td>01</td>\n",
              "      <td>...</td>\n",
              "      <td>전</td>\n",
              "      <td>03</td>\n",
              "      <td>완경사</td>\n",
              "      <td>5</td>\n",
              "      <td>부정형</td>\n",
              "      <td>12</td>\n",
              "      <td>맹지</td>\n",
              "      <td>186900.0</td>\n",
              "      <td>2022-11-08</td>\n",
              "      <td>POLYGON ((243572.907 444761.590, 243587.679 44...</td>\n",
              "    </tr>\n",
              "    <tr>\n",
              "      <th>5</th>\n",
              "      <td>472441333</td>\n",
              "      <td>4183025021100020005</td>\n",
              "      <td>4183025021</td>\n",
              "      <td>경기도 양평군 양평읍 양근리</td>\n",
              "      <td>1</td>\n",
              "      <td>일반</td>\n",
              "      <td>2-5</td>\n",
              "      <td>2-5임</td>\n",
              "      <td>2022</td>\n",
              "      <td>01</td>\n",
              "      <td>...</td>\n",
              "      <td>전기타</td>\n",
              "      <td>03</td>\n",
              "      <td>완경사</td>\n",
              "      <td>5</td>\n",
              "      <td>부정형</td>\n",
              "      <td>12</td>\n",
              "      <td>맹지</td>\n",
              "      <td>186900.0</td>\n",
              "      <td>2022-11-08</td>\n",
              "      <td>POLYGON ((243617.495 444685.045, 243593.633 44...</td>\n",
              "    </tr>\n",
              "    <tr>\n",
              "      <th>...</th>\n",
              "      <td>...</td>\n",
              "      <td>...</td>\n",
              "      <td>...</td>\n",
              "      <td>...</td>\n",
              "      <td>...</td>\n",
              "      <td>...</td>\n",
              "      <td>...</td>\n",
              "      <td>...</td>\n",
              "      <td>...</td>\n",
              "      <td>...</td>\n",
              "      <td>...</td>\n",
              "      <td>...</td>\n",
              "      <td>...</td>\n",
              "      <td>...</td>\n",
              "      <td>...</td>\n",
              "      <td>...</td>\n",
              "      <td>...</td>\n",
              "      <td>...</td>\n",
              "      <td>...</td>\n",
              "      <td>...</td>\n",
              "      <td>...</td>\n",
              "    </tr>\n",
              "    <tr>\n",
              "      <th>331568</th>\n",
              "      <td>472172632</td>\n",
              "      <td>4183041033200430000</td>\n",
              "      <td>4183041033</td>\n",
              "      <td>경기도 양평군 개군면 상자포리</td>\n",
              "      <td>2</td>\n",
              "      <td>산</td>\n",
              "      <td>43</td>\n",
              "      <td>산43임</td>\n",
              "      <td>2022</td>\n",
              "      <td>01</td>\n",
              "      <td>...</td>\n",
              "      <td>조림</td>\n",
              "      <td>04</td>\n",
              "      <td>급경사</td>\n",
              "      <td>5</td>\n",
              "      <td>부정형</td>\n",
              "      <td>12</td>\n",
              "      <td>맹지</td>\n",
              "      <td>5470.0</td>\n",
              "      <td>2022-11-08</td>\n",
              "      <td>POLYGON ((248165.325 434368.307, 248165.620 43...</td>\n",
              "    </tr>\n",
              "    <tr>\n",
              "      <th>331569</th>\n",
              "      <td>472156581</td>\n",
              "      <td>4183041033200440000</td>\n",
              "      <td>4183041033</td>\n",
              "      <td>경기도 양평군 개군면 상자포리</td>\n",
              "      <td>2</td>\n",
              "      <td>산</td>\n",
              "      <td>44</td>\n",
              "      <td>산44임</td>\n",
              "      <td>2022</td>\n",
              "      <td>01</td>\n",
              "      <td>...</td>\n",
              "      <td>자연림</td>\n",
              "      <td>04</td>\n",
              "      <td>급경사</td>\n",
              "      <td>5</td>\n",
              "      <td>부정형</td>\n",
              "      <td>12</td>\n",
              "      <td>맹지</td>\n",
              "      <td>8710.0</td>\n",
              "      <td>2022-11-08</td>\n",
              "      <td>POLYGON ((248165.620 434391.068, 248165.325 43...</td>\n",
              "    </tr>\n",
              "    <tr>\n",
              "      <th>331570</th>\n",
              "      <td>472169561</td>\n",
              "      <td>4183041033200450001</td>\n",
              "      <td>4183041033</td>\n",
              "      <td>경기도 양평군 개군면 상자포리</td>\n",
              "      <td>2</td>\n",
              "      <td>산</td>\n",
              "      <td>45-1</td>\n",
              "      <td>산45-1임</td>\n",
              "      <td>2022</td>\n",
              "      <td>01</td>\n",
              "      <td>...</td>\n",
              "      <td>자연림</td>\n",
              "      <td>04</td>\n",
              "      <td>급경사</td>\n",
              "      <td>5</td>\n",
              "      <td>부정형</td>\n",
              "      <td>12</td>\n",
              "      <td>맹지</td>\n",
              "      <td>8520.0</td>\n",
              "      <td>2022-11-08</td>\n",
              "      <td>POLYGON ((248025.182 434753.340, 248044.082 43...</td>\n",
              "    </tr>\n",
              "    <tr>\n",
              "      <th>331571</th>\n",
              "      <td>472453123</td>\n",
              "      <td>4183041033200460000</td>\n",
              "      <td>4183041033</td>\n",
              "      <td>경기도 양평군 개군면 상자포리</td>\n",
              "      <td>2</td>\n",
              "      <td>산</td>\n",
              "      <td>46</td>\n",
              "      <td>산46임</td>\n",
              "      <td>2022</td>\n",
              "      <td>01</td>\n",
              "      <td>...</td>\n",
              "      <td>자연림</td>\n",
              "      <td>03</td>\n",
              "      <td>완경사</td>\n",
              "      <td>5</td>\n",
              "      <td>부정형</td>\n",
              "      <td>06</td>\n",
              "      <td>소로한면</td>\n",
              "      <td>16300.0</td>\n",
              "      <td>2022-11-08</td>\n",
              "      <td>POLYGON ((247729.197 434700.291, 247730.517 43...</td>\n",
              "    </tr>\n",
              "    <tr>\n",
              "      <th>331573</th>\n",
              "      <td>472152033</td>\n",
              "      <td>4183041033200460004</td>\n",
              "      <td>4183041033</td>\n",
              "      <td>경기도 양평군 개군면 상자포리</td>\n",
              "      <td>2</td>\n",
              "      <td>산</td>\n",
              "      <td>46-4</td>\n",
              "      <td>산46-4임</td>\n",
              "      <td>2022</td>\n",
              "      <td>01</td>\n",
              "      <td>...</td>\n",
              "      <td>자연림</td>\n",
              "      <td>03</td>\n",
              "      <td>완경사</td>\n",
              "      <td>5</td>\n",
              "      <td>부정형</td>\n",
              "      <td>12</td>\n",
              "      <td>맹지</td>\n",
              "      <td>13000.0</td>\n",
              "      <td>2022-11-08</td>\n",
              "      <td>POLYGON ((247997.041 434767.177, 247993.105 43...</td>\n",
              "    </tr>\n",
              "  </tbody>\n",
              "</table>\n",
              "<p>234921 rows × 28 columns</p>\n",
              "</div>\n",
              "      <button class=\"colab-df-convert\" onclick=\"convertToInteractive('df-5ce5e9b6-b8ca-4865-9348-08fba31ce7e3')\"\n",
              "              title=\"Convert this dataframe to an interactive table.\"\n",
              "              style=\"display:none;\">\n",
              "        \n",
              "  <svg xmlns=\"http://www.w3.org/2000/svg\" height=\"24px\"viewBox=\"0 0 24 24\"\n",
              "       width=\"24px\">\n",
              "    <path d=\"M0 0h24v24H0V0z\" fill=\"none\"/>\n",
              "    <path d=\"M18.56 5.44l.94 2.06.94-2.06 2.06-.94-2.06-.94-.94-2.06-.94 2.06-2.06.94zm-11 1L8.5 8.5l.94-2.06 2.06-.94-2.06-.94L8.5 2.5l-.94 2.06-2.06.94zm10 10l.94 2.06.94-2.06 2.06-.94-2.06-.94-.94-2.06-.94 2.06-2.06.94z\"/><path d=\"M17.41 7.96l-1.37-1.37c-.4-.4-.92-.59-1.43-.59-.52 0-1.04.2-1.43.59L10.3 9.45l-7.72 7.72c-.78.78-.78 2.05 0 2.83L4 21.41c.39.39.9.59 1.41.59.51 0 1.02-.2 1.41-.59l7.78-7.78 2.81-2.81c.8-.78.8-2.07 0-2.86zM5.41 20L4 18.59l7.72-7.72 1.47 1.35L5.41 20z\"/>\n",
              "  </svg>\n",
              "      </button>\n",
              "      \n",
              "  <style>\n",
              "    .colab-df-container {\n",
              "      display:flex;\n",
              "      flex-wrap:wrap;\n",
              "      gap: 12px;\n",
              "    }\n",
              "\n",
              "    .colab-df-convert {\n",
              "      background-color: #E8F0FE;\n",
              "      border: none;\n",
              "      border-radius: 50%;\n",
              "      cursor: pointer;\n",
              "      display: none;\n",
              "      fill: #1967D2;\n",
              "      height: 32px;\n",
              "      padding: 0 0 0 0;\n",
              "      width: 32px;\n",
              "    }\n",
              "\n",
              "    .colab-df-convert:hover {\n",
              "      background-color: #E2EBFA;\n",
              "      box-shadow: 0px 1px 2px rgba(60, 64, 67, 0.3), 0px 1px 3px 1px rgba(60, 64, 67, 0.15);\n",
              "      fill: #174EA6;\n",
              "    }\n",
              "\n",
              "    [theme=dark] .colab-df-convert {\n",
              "      background-color: #3B4455;\n",
              "      fill: #D2E3FC;\n",
              "    }\n",
              "\n",
              "    [theme=dark] .colab-df-convert:hover {\n",
              "      background-color: #434B5C;\n",
              "      box-shadow: 0px 1px 3px 1px rgba(0, 0, 0, 0.15);\n",
              "      filter: drop-shadow(0px 1px 2px rgba(0, 0, 0, 0.3));\n",
              "      fill: #FFFFFF;\n",
              "    }\n",
              "  </style>\n",
              "\n",
              "      <script>\n",
              "        const buttonEl =\n",
              "          document.querySelector('#df-5ce5e9b6-b8ca-4865-9348-08fba31ce7e3 button.colab-df-convert');\n",
              "        buttonEl.style.display =\n",
              "          google.colab.kernel.accessAllowed ? 'block' : 'none';\n",
              "\n",
              "        async function convertToInteractive(key) {\n",
              "          const element = document.querySelector('#df-5ce5e9b6-b8ca-4865-9348-08fba31ce7e3');\n",
              "          const dataTable =\n",
              "            await google.colab.kernel.invokeFunction('convertToInteractive',\n",
              "                                                     [key], {});\n",
              "          if (!dataTable) return;\n",
              "\n",
              "          const docLinkHtml = 'Like what you see? Visit the ' +\n",
              "            '<a target=\"_blank\" href=https://colab.research.google.com/notebooks/data_table.ipynb>data table notebook</a>'\n",
              "            + ' to learn more about interactive tables.';\n",
              "          element.innerHTML = '';\n",
              "          dataTable['output_type'] = 'display_data';\n",
              "          await google.colab.output.renderOutput(dataTable, element);\n",
              "          const docLink = document.createElement('div');\n",
              "          docLink.innerHTML = docLinkHtml;\n",
              "          element.appendChild(docLink);\n",
              "        }\n",
              "      </script>\n",
              "    </div>\n",
              "  </div>\n",
              "  "
            ]
          },
          "metadata": {},
          "execution_count": 18
        }
      ]
    },
    {
      "cell_type": "code",
      "source": [
        "ratio = eval[eval['기준연도']==2022]['지형형상코드'].value_counts(normalize=True).sort_index().values"
      ],
      "metadata": {
        "id": "PK92c8Yb7af0"
      },
      "execution_count": null,
      "outputs": []
    },
    {
      "cell_type": "code",
      "source": [
        "eval[eval['기준연도']==2022]['지형형상코드'].value_counts(normalize=True).sort_index().values"
      ],
      "metadata": {
        "colab": {
          "base_uri": "https://localhost:8080/"
        },
        "id": "rw7v-FrV1ID-",
        "outputId": "8ad0e7b0-3412-4bd5-e4a1-652afff8dee3"
      },
      "execution_count": null,
      "outputs": [
        {
          "output_type": "execute_result",
          "data": {
            "text/plain": [
              "array([0.01718009, 0.01895735, 0.05835308, 0.36433649, 0.53643365,\n",
              "       0.00473934])"
            ]
          },
          "metadata": {},
          "execution_count": 22
        }
      ]
    },
    {
      "cell_type": "code",
      "source": [
        "temp.A21 = temp.A21.astype('int64')\n",
        "sample = pd.DataFrame([])\n",
        "for i in range(6):\n",
        "  sample = pd.concat([sample, temp[temp['A21']==i+1].sample(n=round(50000*ratio[i]), replace=False)])\n",
        "  print(len(sample))\n",
        "sample = sample.sample(n=50000, replace=False).reset_index(drop=True)\n",
        "print(len(sample))"
      ],
      "metadata": {
        "colab": {
          "base_uri": "https://localhost:8080/"
        },
        "id": "JdPcaBdc9I-r",
        "outputId": "8cafdb21-056f-473d-ba0c-638d6629da40"
      },
      "execution_count": null,
      "outputs": [
        {
          "output_type": "stream",
          "name": "stdout",
          "text": [
            "859\n",
            "1807\n",
            "4725\n",
            "22942\n",
            "49764\n",
            "50001\n",
            "50000\n"
          ]
        }
      ]
    },
    {
      "cell_type": "code",
      "source": [
        "device = torch.device(\"cuda:0\" if torch.cuda.is_available() else \"cpu\")\n",
        "print(device)"
      ],
      "metadata": {
        "colab": {
          "base_uri": "https://localhost:8080/"
        },
        "id": "Hfb2HqPvAI0r",
        "outputId": "a8046cc9-b78c-47c3-bb03-3e173d9b461c"
      },
      "execution_count": null,
      "outputs": [
        {
          "output_type": "stream",
          "name": "stdout",
          "text": [
            "cpu\n"
          ]
        }
      ]
    },
    {
      "cell_type": "code",
      "source": [
        "convert_tensor = transforms.ToTensor()\n",
        "data = []\n",
        "cnt = 0\n",
        "for polygon in sample.geometry:\n",
        "    arr = polygon2gray(polygon)\n",
        "    data.append(convert_tensor(arr))\n",
        "    cnt += 1\n",
        "    if cnt%10000==0:\n",
        "      print(cnt)\n",
        "X = torch.cat(data, 0)"
      ],
      "metadata": {
        "id": "uYF13JsjC_4K"
      },
      "execution_count": null,
      "outputs": []
    },
    {
      "cell_type": "code",
      "source": [
        "Y = torch.from_numpy(sample.A21.to_numpy()).long().to(device)"
      ],
      "metadata": {
        "id": "ZChA1YM0DCf9"
      },
      "execution_count": null,
      "outputs": []
    },
    {
      "cell_type": "code",
      "source": [
        "#Tensor를 numpy로 변경\n",
        "#X_np = X.numpy( )\n",
        "#이 때, tensor의 device type이 'cuda'이면 'cpu'로 바꿔줘야 한다.\n",
        "X_np = X.cpu( ).numpy( )\n",
        "Y_np = Y.cpu( ).numpy( )\n",
        "\n",
        "\n",
        "#npy파일로 local에 저장\n",
        "#numpy 배열 'b'를 경로에 저장\n",
        "X_file = '/content/drive/MyDrive/공간정보활용 공모전/양평군/train_X_npy_file'\n",
        "Y_file = '/content/drive/MyDrive/공간정보활용 공모전/양평군/train_Y_npy_file'\n",
        "np.save(X_file, X_np)\n",
        "np.save(Y_file, Y_np)"
      ],
      "metadata": {
        "id": "I8bYKQ_-HD65"
      },
      "execution_count": null,
      "outputs": []
    },
    {
      "cell_type": "code",
      "source": [
        "convert_tensor = transforms.ToTensor()\n",
        "data = []\n",
        "cnt = 0\n",
        "for polygon in eval.geometry:\n",
        "    arr = polygon2gray(polygon)\n",
        "    data.append(convert_tensor(arr))\n",
        "    cnt += 1\n",
        "    if cnt%10000==0:\n",
        "      print(cnt)\n",
        "X = torch.cat(data, 0)"
      ],
      "metadata": {
        "id": "up3JI5wgHM2d"
      },
      "execution_count": null,
      "outputs": []
    },
    {
      "cell_type": "code",
      "source": [
        "Y = torch.from_numpy(eval.label.to_numpy()).long().to(device)"
      ],
      "metadata": {
        "id": "gauECir7HWeW"
      },
      "execution_count": null,
      "outputs": []
    },
    {
      "cell_type": "code",
      "source": [
        "#Tensor를 numpy로 변경\n",
        "#X_np = X.numpy( )\n",
        "#이 때, tensor의 device type이 'cuda'이면 'cpu'로 바꿔줘야 한다.\n",
        "X_np = X.cpu( ).numpy( )\n",
        "Y_np = Y.cpu( ).numpy( )\n",
        "\n",
        "\n",
        "#npy파일로 local에 저장\n",
        "#numpy 배열 'b'를 경로에 저장\n",
        "X_file = '/content/drive/MyDrive/공간정보활용 공모전/양평군/test_X_npy_file'\n",
        "Y_file = '/content/drive/MyDrive/공간정보활용 공모전/양평군/test_Y_npy_file'\n",
        "np.save(X_file, X_np)\n",
        "np.save(Y_file, Y_np)"
      ],
      "metadata": {
        "id": "pf3mvoVlHbRJ"
      },
      "execution_count": null,
      "outputs": []
    }
  ]
}